{
 "cells": [
  {
   "cell_type": "code",
   "execution_count": 0,
   "metadata": {
    "application/vnd.databricks.v1+cell": {
     "cellMetadata": {},
     "inputWidgets": {},
     "nuid": "f32f2cfe-ee09-40b9-b169-a60b3e80974b",
     "showTitle": false,
     "tableResultSettingsMap": {},
     "title": ""
    }
   },
   "outputs": [],
   "source": [
    "%python\n",
    "\n",
    "print(\"Notebook 1 added for Testing\")\n",
    "print(\"Notebook Added for the conflict checks\")"
   ]
  },
  {
   "cell_type": "code",
   "execution_count": 0,
   "metadata": {
    "application/vnd.databricks.v1+cell": {
     "cellMetadata": {},
     "inputWidgets": {},
     "nuid": "5f0dc385-5079-4645-a2bd-859733cb5eec",
     "showTitle": false,
     "tableResultSettingsMap": {},
     "title": ""
    }
   },
   "outputs": [],
   "source": [
    "%python\n",
    "\n",
    "print(\"Notebook Added for the conflict checks 2nd Time Date: 23-05-2025\")\n",
    "print(\"Notebook Added for the conflict checks 3rd Time Date: 23-05-2025\")\n",
    "print(\"Notebook Added for the conflict checks 4th Time Date: 23-05-2025\")"
   ]
  },
  {
   "cell_type": "code",
   "execution_count": 0,
   "metadata": {
    "application/vnd.databricks.v1+cell": {
     "cellMetadata": {},
     "inputWidgets": {},
     "nuid": "bcee7f75-5592-47c7-b8df-332d262bf431",
     "showTitle": false,
     "tableResultSettingsMap": {},
     "title": ""
    }
   },
   "outputs": [],
   "source": [
    "print(\"Notebook Added for the conflict checks 3rd Time Date: 24-05-2025\")\n",
    "print(\"Notebook Added for the conflict checks 4th Time Date: 24-05-2025\")\n",
    "print(\"Notebook Added for the conflict checks 5th Time Date: 24-05-2025\")"
   ]
  },
  {
   "cell_type": "code",
   "execution_count": 0,
   "metadata": {
    "application/vnd.databricks.v1+cell": {
     "cellMetadata": {},
     "inputWidgets": {},
     "nuid": "c18a26ad-6c99-4351-aeee-6d8bc9bba22a",
     "showTitle": false,
     "tableResultSettingsMap": {},
     "title": ""
    }
   },
   "outputs": [],
   "source": [
    "print(\"Notebook Added for the conflict checks 5th Time Date: 24-05-2025\")\n",
    "print(\"Notebook Added for the conflict checks 6th Time Date: 24-05-2025\")\n",
    "print(\"Notebook Added for the conflict checks 7th Time Date: 24-05-2025\")"
   ]
  },
  {
   "cell_type": "code",
   "execution_count": 0,
   "metadata": {
    "application/vnd.databricks.v1+cell": {
     "cellMetadata": {},
     "inputWidgets": {},
     "nuid": "b7788277-2c61-4490-8d61-069f33c71615",
     "showTitle": false,
     "tableResultSettingsMap": {},
     "title": ""
    }
   },
   "outputs": [],
   "source": [
    "print(\"Notebook Added for the conflict checks 8th Time Date: 24-05-2025\")\n",
    "print(\"Notebook Added for the conflict checks 9th Time Date: 24-05-2025\")"
   ]
  }
 ],
 "metadata": {
  "application/vnd.databricks.v1+notebook": {
   "computePreferences": null,
   "dashboards": [],
   "environmentMetadata": {
    "base_environment": "",
    "environment_version": "2"
   },
   "inputWidgetPreferences": null,
   "language": "python",
   "notebookMetadata": {
    "pythonIndentUnit": 2
   },
   "notebookName": "SAMPLE_TEST_1",
   "widgets": {}
  },
  "language_info": {
   "name": "python"
  }
 },
 "nbformat": 4,
 "nbformat_minor": 0
}
